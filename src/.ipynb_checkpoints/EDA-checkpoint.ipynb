{
 "cells": [
  {
   "cell_type": "code",
   "execution_count": 5,
   "metadata": {},
   "outputs": [],
   "source": [
    "import os\n",
    "import pandas as pd\n",
    "import matplotlib.pyplot as plt\n",
    "import numpy as np"
   ]
  },
  {
   "cell_type": "code",
   "execution_count": 6,
   "metadata": {},
   "outputs": [
    {
     "data": {
      "text/html": [
       "<div>\n",
       "<style>\n",
       "    .dataframe thead tr:only-child th {\n",
       "        text-align: right;\n",
       "    }\n",
       "\n",
       "    .dataframe thead th {\n",
       "        text-align: left;\n",
       "    }\n",
       "\n",
       "    .dataframe tbody tr th {\n",
       "        vertical-align: top;\n",
       "    }\n",
       "</style>\n",
       "<table border=\"1\" class=\"dataframe\">\n",
       "  <thead>\n",
       "    <tr style=\"text-align: right;\">\n",
       "      <th></th>\n",
       "      <th>gdp</th>\n",
       "      <th>gdp_rate</th>\n",
       "    </tr>\n",
       "    <tr>\n",
       "      <th>date</th>\n",
       "      <th></th>\n",
       "      <th></th>\n",
       "    </tr>\n",
       "  </thead>\n",
       "  <tbody>\n",
       "    <tr>\n",
       "      <th>1992Q1</th>\n",
       "      <td>5262.8</td>\n",
       "      <td>0.250000</td>\n",
       "    </tr>\n",
       "    <tr>\n",
       "      <th>1992Q2</th>\n",
       "      <td>6484.3</td>\n",
       "      <td>0.250000</td>\n",
       "    </tr>\n",
       "    <tr>\n",
       "      <th>1992Q3</th>\n",
       "      <td>7192.6</td>\n",
       "      <td>0.250000</td>\n",
       "    </tr>\n",
       "    <tr>\n",
       "      <th>1992Q4</th>\n",
       "      <td>8254.8</td>\n",
       "      <td>0.250000</td>\n",
       "    </tr>\n",
       "    <tr>\n",
       "      <th>1993Q1</th>\n",
       "      <td>6834.6</td>\n",
       "      <td>0.298662</td>\n",
       "    </tr>\n",
       "  </tbody>\n",
       "</table>\n",
       "</div>"
      ],
      "text/plain": [
       "           gdp  gdp_rate\n",
       "date                    \n",
       "1992Q1  5262.8  0.250000\n",
       "1992Q2  6484.3  0.250000\n",
       "1992Q3  7192.6  0.250000\n",
       "1992Q4  8254.8  0.250000\n",
       "1993Q1  6834.6  0.298662"
      ]
     },
     "execution_count": 6,
     "metadata": {},
     "output_type": "execute_result"
    }
   ],
   "source": [
    "# ===GDP===\n",
    "# read data\n",
    "os.chdir('/home/shensir/Documents/MyPrograming/Python/PycharmProject/MySpider/Stock/src')\n",
    "gdp_df = pd.read_csv('../data/gdp_q4_processed.csv')\n",
    "gdp_df.index = gdp_df['date']\n",
    "gdp_df.drop(['date'], inplace=True, axis=1)\n",
    "gdp_df.head()"
   ]
  },
  {
   "cell_type": "code",
   "execution_count": 7,
   "metadata": {},
   "outputs": [
    {
     "data": {
      "text/html": [
       "<div>\n",
       "<style>\n",
       "    .dataframe thead tr:only-child th {\n",
       "        text-align: right;\n",
       "    }\n",
       "\n",
       "    .dataframe thead th {\n",
       "        text-align: left;\n",
       "    }\n",
       "\n",
       "    .dataframe tbody tr th {\n",
       "        vertical-align: top;\n",
       "    }\n",
       "</style>\n",
       "<table border=\"1\" class=\"dataframe\">\n",
       "  <thead>\n",
       "    <tr style=\"text-align: right;\">\n",
       "      <th></th>\n",
       "      <th>year</th>\n",
       "      <th>close</th>\n",
       "      <th>trade_times</th>\n",
       "      <th>trade_money</th>\n",
       "    </tr>\n",
       "    <tr>\n",
       "      <th>date</th>\n",
       "      <th></th>\n",
       "      <th></th>\n",
       "      <th></th>\n",
       "      <th></th>\n",
       "    </tr>\n",
       "  </thead>\n",
       "  <tbody>\n",
       "    <tr>\n",
       "      <th>1992Q1</th>\n",
       "      <td>1992.0</td>\n",
       "      <td>339.611967</td>\n",
       "      <td>4.698902e+05</td>\n",
       "      <td>8.773705e+06</td>\n",
       "    </tr>\n",
       "    <tr>\n",
       "      <th>1992Q2</th>\n",
       "      <td>1992.0</td>\n",
       "      <td>778.056406</td>\n",
       "      <td>3.715642e+06</td>\n",
       "      <td>7.651284e+07</td>\n",
       "    </tr>\n",
       "    <tr>\n",
       "      <th>1992Q3</th>\n",
       "      <td>1992.0</td>\n",
       "      <td>928.480909</td>\n",
       "      <td>8.362256e+06</td>\n",
       "      <td>1.269380e+08</td>\n",
       "    </tr>\n",
       "    <tr>\n",
       "      <th>1992Q4</th>\n",
       "      <td>1992.0</td>\n",
       "      <td>604.371875</td>\n",
       "      <td>1.571860e+07</td>\n",
       "      <td>1.770287e+08</td>\n",
       "    </tr>\n",
       "    <tr>\n",
       "      <th>1993Q1</th>\n",
       "      <td>1993.0</td>\n",
       "      <td>1182.115574</td>\n",
       "      <td>4.465464e+07</td>\n",
       "      <td>8.546447e+08</td>\n",
       "    </tr>\n",
       "  </tbody>\n",
       "</table>\n",
       "</div>"
      ],
      "text/plain": [
       "          year        close   trade_times   trade_money\n",
       "date                                                   \n",
       "1992Q1  1992.0   339.611967  4.698902e+05  8.773705e+06\n",
       "1992Q2  1992.0   778.056406  3.715642e+06  7.651284e+07\n",
       "1992Q3  1992.0   928.480909  8.362256e+06  1.269380e+08\n",
       "1992Q4  1992.0   604.371875  1.571860e+07  1.770287e+08\n",
       "1993Q1  1993.0  1182.115574  4.465464e+07  8.546447e+08"
      ]
     },
     "execution_count": 7,
     "metadata": {},
     "output_type": "execute_result"
    }
   ],
   "source": [
    "# ===Stock===\n",
    "stock_df = pd.read_csv('../data/stock_processed.csv')\n",
    "stock_df.index = stock_df['date']\n",
    "stock_df.drop('date',inplace=True, axis=1)\n",
    "stock_df.head()"
   ]
  },
  {
   "cell_type": "code",
   "execution_count": 9,
   "metadata": {},
   "outputs": [
    {
     "data": {
      "image/png": "[encoded data removed]",
      "text/plain": [
       "<matplotlib.figure.Figure at 0x7ff400104978>"
      ]
     },
     "metadata": {},
     "output_type": "display_data"
    }
   ],
   "source": [
    "plt.figure()\n",
    "# plt.subplot(121)\n",
    "gdp_df['gdp_rate'].plot()\n",
    "plt.xticks(rotation=60)\n",
    "# plt.subplot(122)\n",
    "# stock_df['close'].plot()\n",
    "# plt.xticks(rotation=60)\n",
    "# plt.subplots_adjust(left=0.2, wspace=0.3, top=0.8)\n",
    "plt.show()"
   ]
  },
  {
   "cell_type": "code",
   "execution_count": 14,
   "metadata": {},
   "outputs": [
    {
     "data": {
      "text/html": [
       "<div>\n",
       "<style>\n",
       "    .dataframe thead tr:only-child th {\n",
       "        text-align: right;\n",
       "    }\n",
       "\n",
       "    .dataframe thead th {\n",
       "        text-align: left;\n",
       "    }\n",
       "\n",
       "    .dataframe tbody tr th {\n",
       "        vertical-align: top;\n",
       "    }\n",
       "</style>\n",
       "<table border=\"1\" class=\"dataframe\">\n",
       "  <thead>\n",
       "    <tr style=\"text-align: right;\">\n",
       "      <th></th>\n",
       "      <th>gdp</th>\n",
       "      <th>gdp_rate</th>\n",
       "      <th>year</th>\n",
       "      <th>close</th>\n",
       "      <th>trade_times</th>\n",
       "      <th>trade_money</th>\n",
       "    </tr>\n",
       "    <tr>\n",
       "      <th>date</th>\n",
       "      <th></th>\n",
       "      <th></th>\n",
       "      <th></th>\n",
       "      <th></th>\n",
       "      <th></th>\n",
       "      <th></th>\n",
       "    </tr>\n",
       "  </thead>\n",
       "  <tbody>\n",
       "    <tr>\n",
       "      <th>1998Q1</th>\n",
       "      <td>18049.1</td>\n",
       "      <td>0.081490</td>\n",
       "      <td>1998.0</td>\n",
       "      <td>1212.777731</td>\n",
       "      <td>4.150183e+08</td>\n",
       "      <td>4.453512e+09</td>\n",
       "    </tr>\n",
       "    <tr>\n",
       "      <th>1998Q2</th>\n",
       "      <td>20296.6</td>\n",
       "      <td>0.059123</td>\n",
       "      <td>1998.0</td>\n",
       "      <td>1353.313203</td>\n",
       "      <td>8.650186e+08</td>\n",
       "      <td>7.784021e+09</td>\n",
       "    </tr>\n",
       "    <tr>\n",
       "      <th>1998Q3</th>\n",
       "      <td>21775.6</td>\n",
       "      <td>0.062178</td>\n",
       "      <td>1998.0</td>\n",
       "      <td>1242.377197</td>\n",
       "      <td>5.720185e+08</td>\n",
       "      <td>4.449456e+09</td>\n",
       "    </tr>\n",
       "    <tr>\n",
       "      <th>1998Q4</th>\n",
       "      <td>25074.2</td>\n",
       "      <td>0.073313</td>\n",
       "      <td>1998.0</td>\n",
       "      <td>1227.214984</td>\n",
       "      <td>4.852628e+08</td>\n",
       "      <td>4.308763e+09</td>\n",
       "    </tr>\n",
       "    <tr>\n",
       "      <th>1999Q1</th>\n",
       "      <td>19361.9</td>\n",
       "      <td>0.072735</td>\n",
       "      <td>1999.0</td>\n",
       "      <td>1141.768320</td>\n",
       "      <td>5.138045e+08</td>\n",
       "      <td>3.505024e+09</td>\n",
       "    </tr>\n",
       "  </tbody>\n",
       "</table>\n",
       "</div>"
      ],
      "text/plain": [
       "            gdp  gdp_rate    year        close   trade_times   trade_money\n",
       "date                                                                      \n",
       "1998Q1  18049.1  0.081490  1998.0  1212.777731  4.150183e+08  4.453512e+09\n",
       "1998Q2  20296.6  0.059123  1998.0  1353.313203  8.650186e+08  7.784021e+09\n",
       "1998Q3  21775.6  0.062178  1998.0  1242.377197  5.720185e+08  4.449456e+09\n",
       "1998Q4  25074.2  0.073313  1998.0  1227.214984  4.852628e+08  4.308763e+09\n",
       "1999Q1  19361.9  0.072735  1999.0  1141.768320  5.138045e+08  3.505024e+09"
      ]
     },
     "execution_count": 14,
     "metadata": {},
     "output_type": "execute_result"
    }
   ],
   "source": [
    "### 选取1998-2014\n",
    "data = pd.concat([gdp_df.loc['1998Q1':'2014Q4'], stock_df.loc['1998Q1':'2014Q4']], axis=1)\n",
    "data.head()"
   ]
  },
  {
   "cell_type": "code",
   "execution_count": 15,
   "metadata": {},
   "outputs": [
    {
     "data": {
      "image/png": "[encoded data removed]",
      "text/plain": [
       "<matplotlib.figure.Figure at 0x7ff3fc81c1d0>"
      ]
     },
     "metadata": {},
     "output_type": "display_data"
    }
   ],
   "source": [
    "sd_data = pd.DataFrame()\n",
    "sd_data['gdp_rate_sd'] = (data['gdp_rate']-data['gdp_rate'].min())/(data['gdp_rate'].max()-data['gdp_rate'].min())\n",
    "sd_data['stock_close_sd'] = (data['close']-data['close'].min())/(data['close'].max()-data['close'].min())\n",
    "sd_data.plot()\n",
    "plt.xticks(rotation=60)\n",
    "plt.show()"
   ]
  },
  {
   "cell_type": "code",
   "execution_count": 16,
   "metadata": {},
   "outputs": [],
   "source": [
    "data.to_csv('../data/stock_gdp.csv')"
   ]
  },
  {
   "cell_type": "code",
   "execution_count": null,
   "metadata": {},
   "outputs": [],
   "source": []
  }
 ],
 "metadata": {
  "kernelspec": {
   "display_name": "Python 3",
   "language": "python",
   "name": "python3"
  },
  "language_info": {
   "codemirror_mode": {
    "name": "ipython",
    "version": 3
   },
   "file_extension": ".py",
   "mimetype": "text/x-python",
   "name": "python",
   "nbconvert_exporter": "python",
   "pygments_lexer": "ipython3",
   "version": "3.6.1"
  }
 },
 "nbformat": 4,
 "nbformat_minor": 2
}
